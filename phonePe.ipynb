{
 "cells": [
  {
   "cell_type": "code",
   "execution_count": 1,
   "metadata": {},
   "outputs": [],
   "source": [
    "import json\n",
    "import pandas as pd\n",
    "import os\n",
    "from psycopg2 import connect\n",
    "import plotly_express as px"
   ]
  },
  {
   "cell_type": "code",
   "execution_count": 5,
   "metadata": {},
   "outputs": [],
   "source": [
    "#transaction_aggregated\n",
    "\n",
    "path=\"c:/Users/Hp/Desktop/Phonepe pulse/pulse/data/aggregated/transaction/country/india/state/\"\n",
    "state_list=os.listdir(path)\n",
    "data={'State':[],'Quarter':[],'Transaction_type':[],'Transaction_amount':[],'Transaction_count':[],'Year':[]}\n",
    "\n",
    "for i in state_list:\n",
    "    path_i=path+i+'/'\n",
    "    year_data=os.listdir(path_i)\n",
    "    for j in year_data:\n",
    "        path_j=path_i+j+'/'\n",
    "        quarter_data=os.listdir(path_j)\n",
    "        for k in quarter_data:\n",
    "            path_k=path_j+k\n",
    "            d=open(path_k,'r')\n",
    "            data1=json.load(d)\n",
    "            for z in data1[\"data\"][\"transactionData\"]:\n",
    "                Name=z['name']\n",
    "                Count=z[\"paymentInstruments\"][0]['count']\n",
    "                Total_amount=z[\"paymentInstruments\"][0]['amount']\n",
    "                data['State'].append(i)\n",
    "                data['Year'].append(j)\n",
    "                data['Quarter'].append(int(k.strip('.json')))\n",
    "                data['Transaction_type'].append(Name)\n",
    "                data['Transaction_amount'].append(Total_amount)\n",
    "                data['Transaction_count'].append(Count)\n",
    "data_frame=pd.DataFrame(data)\n",
    "#data_cleaning\n",
    "data_frame['State']=data_frame['State'].str.replace(\"andaman-&-nicobar-islands\",\"Andaman and Nicobar\")\n",
    "data_frame['State']=data_frame['State'].str.replace(\"-\",\" \")\n",
    "data_frame['State']=data_frame['State'].str.replace(\"dadra & nagar haveli & daman & diu\",\"dadra and nagar haveli and daman and diu\")\n",
    "data_frame['State']=data_frame['State'].str.title()\n",
    "data_frame['Transaction_type']=data_frame['Transaction_type'].str.replace(\"Recharge & bill payments\",\"Recharge and bill payments\")\n",
    "data_frame['Transaction_type']=data_frame['Transaction_type'].str.replace(\"-\",\" \")\n",
    "\n",
    "#SQL section:\n",
    "myconnection=connect(host='127.0.0.1',user='postgres',password='yusuff@12345',port='5432',database='phonepe')\n",
    "cursor=myconnection.cursor()\n",
    "create_table='''create table if not exists agg_transaction(state varchar(100),\n",
    "                                                        quarter int,\n",
    "                                                        transaction_type varchar(50),\n",
    "                                                        transaction_amount bigint,\n",
    "                                                        transaction_count bigint,\n",
    "                                                        year int)'''\n",
    "cursor.execute(create_table)\n",
    "myconnection.commit()\n",
    "for index,row in data_frame.iterrows():\n",
    "    insert_table='''insert into agg_transaction(state,\n",
    "                                                quarter,\n",
    "                                                transaction_type,\n",
    "                                                transaction_amount,\n",
    "                                                transaction_count,\n",
    "                                                year)values(%s,%s,%s,%s,%s,%s)'''\n",
    "    values=(row['State'],\n",
    "            row['Quarter'],\n",
    "            row['Transaction_type'],\n",
    "            row['Transaction_amount'],\n",
    "            row['Transaction_count'],\n",
    "            row['Year'])\n",
    "    cursor.execute(insert_table,values)\n",
    "    myconnection.commit()\n"
   ]
  },
  {
   "cell_type": "code",
   "execution_count": 6,
   "metadata": {},
   "outputs": [],
   "source": [
    "#user_aggregrated\n",
    "users_path=\"c:/Users/Hp/Desktop/Phonepe pulse/pulse/data/aggregated/user/country/india/state/\"\n",
    "users_state=os.listdir(users_path)\n",
    "users_data={'Brand':[],'Total_count':[],'Percentage':[],'Quarter':[],'State':[],'Year':[]}\n",
    "\n",
    "for x in users_state:\n",
    "    path_x=users_path+x+'/'\n",
    "    users_year=os.listdir(path_x)\n",
    "    for y in users_year:\n",
    "        path_y=path_x+y+'/'\n",
    "        users_quarter=os.listdir(path_y)\n",
    "        for z in users_quarter:\n",
    "            path_z=path_y+z\n",
    "            d1=open(path_z,'r')\n",
    "            data2=json.load(d1)\n",
    "            try:\n",
    "                for w in data2[\"data\"][\"usersByDevice\"]:\n",
    "                    Device_brand=w['brand']\n",
    "                    count=w[\"count\"]\n",
    "                    percentage=w[\"percentage\"]\n",
    "                    users_data['Brand'].append(Device_brand)\n",
    "                    users_data['Total_count'].append(count)\n",
    "                    users_data['Percentage'].append(percentage)\n",
    "                    users_data['Quarter'].append(int(z.strip('.json')))\n",
    "                    users_data['State'].append(x)\n",
    "                    users_data['Year'].append(y)\n",
    "            except:\n",
    "                pass\n",
    "data_frame1=pd.DataFrame(users_data)\n",
    "\n",
    "data_frame1['State']=data_frame1['State'].str.replace(\"andaman-&-nicobar-islands\",\"Andaman and Nicobar\")\n",
    "data_frame1['State']=data_frame1['State'].str.replace(\"-\",\" \")\n",
    "data_frame1['State']=data_frame1['State'].str.replace(\"dadra & nagar haveli & daman & diu\",\"dadra and nagar haveli and daman and diu\")\n",
    "data_frame1['State']=data_frame1['State'].str.title()\n",
    "\n",
    "myconnection=connect(host='127.0.0.1',user='postgres',password='yusuff@12345',port='5432',database='phonepe')\n",
    "cursor=myconnection.cursor()\n",
    "create_table='''create table if not exists agg_user(brand varchar(100),\n",
    "                                                        total_count int,\n",
    "                                                        percentage varchar(50),\n",
    "                                                        quarter int,\n",
    "                                                        state varchar(50),\n",
    "                                                        year int)'''\n",
    "cursor.execute(create_table)\n",
    "myconnection.commit()\n",
    "for index,row in data_frame1.iterrows():\n",
    "    insert_table='''insert into agg_user(brand,\n",
    "                                        total_count,\n",
    "                                        percentage,\n",
    "                                        quarter,\n",
    "                                        state,\n",
    "                                        year)values(%s,%s,%s,%s,%s,%s)'''\n",
    "    values=(row['Brand'],\n",
    "            row['Total_count'],\n",
    "            row['Percentage'],\n",
    "            row['Quarter'],\n",
    "            row['State'],\n",
    "            row['Year'])\n",
    "    cursor.execute(insert_table,values)\n",
    "    myconnection.commit()\n",
    "\n"
   ]
  },
  {
   "cell_type": "code",
   "execution_count": 7,
   "metadata": {},
   "outputs": [],
   "source": [
    "#map_transaction\n",
    "map_path=\"C:/Users/Hp/Desktop/Phonepe pulse/pulse/data/map/transaction/hover/country/india/state/\"\n",
    "map_list=os.listdir(map_path)\n",
    "map_data={'City_name':[],'State':[],'Transaction_count':[],'Total_amount':[],'Year':[],'Quarter':[]}\n",
    "for a in map_list:\n",
    "    path_a=map_path+a+'/'\n",
    "    map_year=os.listdir(path_a)\n",
    "    for b in map_year:\n",
    "        path_b=path_a+b+'/'\n",
    "        map_quarter=os.listdir(path_b)\n",
    "        for c in map_quarter:\n",
    "            path_c=path_b+c\n",
    "            data3=open(path_c,'r')\n",
    "            d3=json.load(data3)\n",
    "            for d in d3[\"data\"][\"hoverDataList\"]:\n",
    "                map_name=d[\"name\"]\n",
    "                t_count=d[\"metric\"][0][\"count\"]\n",
    "                t_amount=d[\"metric\"][0][\"amount\"]\n",
    "                map_data[\"City_name\"].append(map_name)\n",
    "                map_data[\"Transaction_count\"].append(t_count)\n",
    "                map_data[\"Total_amount\"].append(t_amount)\n",
    "                map_data[\"Quarter\"].append(int(c.strip(\".json\")))\n",
    "                map_data['Year'].append(b)\n",
    "                map_data['State'].append(a)\n",
    "data_frame2=pd.DataFrame(map_data)\n",
    "\n",
    "data_frame2['State']=data_frame2['State'].str.replace(\"andaman-&-nicobar-islands\",\"Andaman and Nicobar\")\n",
    "data_frame2['State']=data_frame2['State'].str.replace(\"-\",\" \")\n",
    "data_frame2['State']=data_frame2['State'].str.replace(\"dadra & nagar haveli & daman & diu\",\"dadra and nagar haveli and daman and diu\")\n",
    "data_frame2['State']=data_frame2['State'].str.title()\n",
    "\n",
    "myconnection=connect(host='127.0.0.1',user='postgres',password='yusuff@12345',port='5432',database='phonepe')\n",
    "cursor=myconnection.cursor()\n",
    "create_table='''create table if not exists map_transaction(city varchar(200),\n",
    "                                                        transaction_count bigint,\n",
    "                                                        total_amount bigint,\n",
    "                                                        quarter int,\n",
    "                                                        year int,\n",
    "                                                        state varchar(50))'''\n",
    "cursor.execute(create_table)\n",
    "myconnection.commit()\n",
    "for index,row in data_frame2.iterrows():\n",
    "    insert_table='''insert into map_transaction(city,\n",
    "                                        transaction_count,\n",
    "                                        total_amount,\n",
    "                                        quarter,\n",
    "                                        year,\n",
    "                                        state)values(%s,%s,%s,%s,%s,%s)'''\n",
    "    values=(row['City_name'],\n",
    "            row['Transaction_count'],\n",
    "            row['Total_amount'],\n",
    "            row['Quarter'],\n",
    "            row['Year'],\n",
    "            row['State'])\n",
    "    cursor.execute(insert_table,values)\n",
    "    myconnection.commit()\n"
   ]
  },
  {
   "cell_type": "code",
   "execution_count": 8,
   "metadata": {},
   "outputs": [],
   "source": [
    "#map_user\n",
    "\n",
    "mapuser_path=\"C:/Users/Hp/Desktop/Phonepe pulse/pulse/data/map/user/hover/country/india/state/\"\n",
    "map_state=os.listdir(mapuser_path)\n",
    "users_map={'District':[],'State':[],'year':[],'quarter':[],'Registered_users':[],'App_opens':[]}\n",
    "for state in map_state:\n",
    "    state_path=mapuser_path+state+'/'\n",
    "    states=os.listdir(state_path)\n",
    "    for year in states:\n",
    "        y_path=state_path+year+'/'\n",
    "        years=os.listdir(y_path)\n",
    "        for quarter in years:\n",
    "            q_path=y_path+quarter\n",
    "            data4=open(q_path,'r')\n",
    "            d4=json.load(data4)\n",
    "            for i in d4['data']['hoverData'].items():\n",
    "                district_name=i[0]\n",
    "                r_users=i[1][\"registeredUsers\"]\n",
    "                a_opens=i[1]['appOpens']\n",
    "                users_map['District'].append(district_name)\n",
    "                users_map['Registered_users'].append(r_users)\n",
    "                users_map['App_opens'].append(a_opens)\n",
    "                users_map['year'].append(year)\n",
    "                users_map['State'].append(state)\n",
    "                users_map['quarter'].append(int(quarter.strip(\".json\")))\n",
    "data_frame3=pd.DataFrame(users_map)\n",
    "\n",
    "data_frame3['State']=data_frame3['State'].str.replace(\"andaman-&-nicobar-islands\",\"Andaman and Nicobar\")\n",
    "data_frame3['State']=data_frame3['State'].str.replace(\"-\",\" \")\n",
    "data_frame3['State']=data_frame3['State'].str.replace(\"dadra & nagar haveli & daman & diu\",\"dadra and nagar haveli and daman and diu\")\n",
    "data_frame3['State']=data_frame3['State'].str.title()\n",
    "\n",
    "myconnection=connect(host='127.0.0.1',user='postgres',password='yusuff@12345',port='5432',database='phonepe')\n",
    "cursor=myconnection.cursor()\n",
    "create_table='''create table if not exists map_user(district varchar(200),\n",
    "                                                        registered_users bigint,\n",
    "                                                        app_opens bigint,\n",
    "                                                        quarter int,\n",
    "                                                        year int,\n",
    "                                                        state varchar(50))'''\n",
    "cursor.execute(create_table)\n",
    "myconnection.commit()\n",
    "for index,row in data_frame3.iterrows():\n",
    "    insert_table='''insert into map_user(district,\n",
    "                                        registered_users,\n",
    "                                        app_opens,\n",
    "                                        quarter,\n",
    "                                        year,\n",
    "                                        state)values(%s,%s,%s,%s,%s,%s)'''\n",
    "    values=(row['District'],\n",
    "            row['Registered_users'],\n",
    "            row['App_opens'],\n",
    "            row['quarter'],\n",
    "            row['year'],\n",
    "            row['State'])\n",
    "    cursor.execute(insert_table,values)\n",
    "    myconnection.commit()\n",
    "\n"
   ]
  },
  {
   "cell_type": "code",
   "execution_count": 9,
   "metadata": {},
   "outputs": [],
   "source": [
    "#top_transaction\n",
    "\n",
    "top_path=\"c:/Users/Hp/Desktop/Phonepe pulse/pulse/data/top/transaction/country/india/state/\"\n",
    "top_state=os.listdir(path)\n",
    "top_trans={'Year':[],'State':[],'Quarter':[],'Transaction_type':[],'Transaction_amount':[],'Transaction_count':[]}\n",
    "\n",
    "for i in state_list:\n",
    "    path_i=path+i+'/'\n",
    "    year_data=os.listdir(path_i)\n",
    "    for j in year_data:\n",
    "        path_j=path_i+j+'/'\n",
    "        quarter_data=os.listdir(path_j)\n",
    "        for k in quarter_data:\n",
    "            path_k=path_j+k\n",
    "            d=open(path_k,'r')\n",
    "            data1=json.load(d)\n",
    "            for z in data1[\"data\"][\"transactionData\"]:\n",
    "                Name=z['name']\n",
    "                Count=z[\"paymentInstruments\"][0]['count']\n",
    "                Total_amount=z[\"paymentInstruments\"][0]['amount']\n",
    "                top_trans['Year'].append(j)\n",
    "                top_trans['State'].append(i)\n",
    "                top_trans['Quarter'].append(int(k.strip('.json')))\n",
    "                top_trans['Transaction_type'].append(Name)\n",
    "                top_trans['Transaction_amount'].append(Total_amount)\n",
    "                top_trans['Transaction_count'].append(Count)\n",
    "data_frame4=pd.DataFrame(top_trans)\n",
    "data_frame4['State']=data_frame4['State'].str.replace(\"andaman-&-nicobar-islands\",\"Andaman and Nicobar\")\n",
    "data_frame4['State']=data_frame4['State'].str.replace(\"-\",\" \")\n",
    "data_frame4['State']=data_frame4['State'].str.replace(\"dadra & nagar haveli & daman & diu\",\"dadra and nagar haveli and daman and diu\")\n",
    "data_frame4['State']=data_frame4['State'].str.title()\n",
    "\n",
    "myconnection=connect(host='127.0.0.1',user='postgres',password='yusuff@12345',port='5432',database='phonepe')\n",
    "cursor=myconnection.cursor()\n",
    "create_table='''create table if not exists top_transaction(state varchar(200),\n",
    "                                                        transaction_type varchar(200),\n",
    "                                                        transaction_count bigint,\n",
    "                                                        transaction_amount bigint,\n",
    "                                                        quarter int,\n",
    "                                                        year int)'''\n",
    "cursor.execute(create_table)\n",
    "myconnection.commit()\n",
    "for index,row in data_frame4.iterrows():\n",
    "    insert_table='''insert into top_transaction(state,\n",
    "                                        transaction_type,\n",
    "                                        transaction_count,\n",
    "                                        transaction_amount,\n",
    "                                        quarter,\n",
    "                                        year)values(%s,%s,%s,%s,%s,%s)'''\n",
    "    values=(row['State'],\n",
    "            row['Transaction_type'],\n",
    "            row['Transaction_count'],\n",
    "            row['Transaction_amount'],\n",
    "            row['Quarter'],\n",
    "            row['Year'])\n",
    "    cursor.execute(insert_table,values)\n",
    "    myconnection.commit()\n"
   ]
  },
  {
   "cell_type": "code",
   "execution_count": 10,
   "metadata": {},
   "outputs": [],
   "source": [
    "#top_user\n",
    "mapuser_path=\"C:/Users/Hp/Desktop/Phonepe pulse/pulse/data/top/user/country/india/state/\"\n",
    "map_state=os.listdir(mapuser_path)\n",
    "users_map={'District':[],'State':[],'year':[],'quarter':[],'Registered_users':[]}\n",
    "for state in map_state:\n",
    "    state_path=mapuser_path+state+'/'\n",
    "    states=os.listdir(state_path)\n",
    "    for year in states:\n",
    "        y_path=state_path+year+'/'\n",
    "        years=os.listdir(y_path)\n",
    "        for quarter in years:\n",
    "            q_path=y_path+quarter\n",
    "            data4=open(q_path,'r')\n",
    "            d4=json.load(data4)\n",
    "            for i in d4['data']['districts']:\n",
    "                district_name=i['name']\n",
    "                r_users=i[\"registeredUsers\"]\n",
    "                users_map['District'].append(district_name)\n",
    "                users_map['Registered_users'].append(r_users)\n",
    "                users_map['year'].append(year)\n",
    "                users_map['State'].append(state)\n",
    "                users_map['quarter'].append(int(quarter.strip(\".json\")))\n",
    "data_frame5=pd.DataFrame(users_map)\n",
    "data_frame5['State']=data_frame5['State'].str.replace(\"andaman-&-nicobar-islands\",\"Andaman and Nicobar\")\n",
    "data_frame5['State']=data_frame5['State'].str.replace(\"-\",\" \")\n",
    "data_frame5['State']=data_frame5['State'].str.replace(\"dadra & nagar haveli & daman & diu\",\"dadra and nagar haveli and daman and diu\")\n",
    "data_frame5['State']=data_frame5['State'].str.title()\n",
    "data_frame5['District']=data_frame5['District'].str.title()\n",
    "\n",
    "myconnection=connect(host='127.0.0.1',user='postgres',password='yusuff@12345',port='5432',database='phonepe')\n",
    "cursor=myconnection.cursor()\n",
    "create_table='''create table if not exists top_user(district varchar(200),\n",
    "                                                        registered_users bigint,\n",
    "                                                        quarter int,\n",
    "                                                        year int,\n",
    "                                                        state varchar(50))'''\n",
    "cursor.execute(create_table)\n",
    "myconnection.commit()\n",
    "for index,row in data_frame5.iterrows():\n",
    "    insert_table='''insert into top_user(district,\n",
    "                                        registered_users,\n",
    "                                        quarter,\n",
    "                                        year,\n",
    "                                        state)values(%s,%s,%s,%s,%s)'''\n",
    "    values=(row['District'],\n",
    "            row['Registered_users'],\n",
    "            row['quarter'],\n",
    "            row['year'],\n",
    "            row['State'])\n",
    "    cursor.execute(insert_table,values)\n",
    "    myconnection.commit()"
   ]
  },
  {
   "cell_type": "code",
   "execution_count": 38,
   "metadata": {},
   "outputs": [],
   "source": [
    "myconnection=connect(host='127.0.0.1',user='postgres',password='yusuff@12345',port='5432',database='phonepe')\n",
    "cursor=myconnection.cursor()\n",
    "\n",
    "cursor.execute(\"SELECT * FROM agg_transaction\")\n",
    "myconnection.commit()\n",
    "table1=cursor.fetchall()\n",
    "agg_trans=pd.DataFrame(table1,columns=[\"State\",\"Quarter\",\"Transaction Type\",\"Transaction amount\",\"Transaction count\",\"Year\"])\n",
    "\n",
    "cursor.execute(\"SELECT * FROM agg_user\")\n",
    "myconnection.commit()\n",
    "table1=cursor.fetchall()\n",
    "agg_user=pd.DataFrame(table1,columns=[\"Mobile Brand\",\"Total count\",\"Percentage\",\"Quarter\",\"State\"])\n",
    "\n",
    "cursor.execute(\"SELECT * FROM map_transaction\")\n",
    "myconnection.commit()\n",
    "table1=cursor.fetchall()\n",
    "map_trans=pd.DataFrame(table1,columns=[\"City\",\"Transaction count\",\"Total amount\",\"quarter\",\"Year\",\"State\"])\n",
    "\n",
    "cursor.execute(\"SELECT * FROM map_user\")\n",
    "myconnection.commit()\n",
    "table1=cursor.fetchall()\n",
    "map_user=pd.DataFrame(table1,columns=[\"District\",\"Registered Users\",\"App Opens\",\"Quarter\",\"Year\",\"State\"])\n",
    "\n",
    "cursor.execute(\"SELECT * FROM top_transaction\")\n",
    "myconnection.commit()\n",
    "table1=cursor.fetchall()\n",
    "top_trans=pd.DataFrame(table1,columns=[\"State\",\"Transaction Type\",\"Transaction count\",\"Transaction amount\",\"Quarter\",\"Year\"])\n",
    "\n",
    "cursor.execute(\"SELECT * FROM top_user\")\n",
    "myconnection.commit()\n",
    "table1=cursor.fetchall()\n",
    "top_user=pd.DataFrame(table1,columns=[\"District\",\"Registered Users\",\"Quarter\",\"Year\",\"State\"])"
   ]
  },
  {
   "cell_type": "code",
   "execution_count": 64,
   "metadata": {},
   "outputs": [],
   "source": [
    "def trans_amount_count(year):\n",
    "    trans_y=agg_trans[agg_trans['Year']==year]\n",
    "    trans_y.reset_index(drop=True,inplace=True)\n",
    "    trans_g=trans_y.groupby(\"State\")[['Transaction count','Transaction amount']].sum()\n",
    "    trans_g.reset_index(inplace=True)\n",
    "    figure_trans_count=px.bar(trans_g, x=\"State\" , y=\"Transaction count\",title=\"Transaction count\",height=600,width=750,color_discrete_sequence=px.colors.sequential.Aggrnyl)\n",
    "    figure_trans_amount=px.bar(trans_g,x='State',y=\"Transaction amount\",height=600,width=750,color_discrete_sequence=px.colors.sequential.Bluered_r)"
   ]
  },
  {
   "cell_type": "code",
   "execution_count": 65,
   "metadata": {},
   "outputs": [
    {
     "data": {
      "application/vnd.plotly.v1+json": {
       "config": {
        "plotlyServerURL": "https://plot.ly"
       },
       "data": [
        {
         "alignmentgroup": "True",
         "hovertemplate": "State=%{x}<br>Transaction count=%{y}<extra></extra>",
         "legendgroup": "",
         "marker": {
          "color": "rgb(36, 86, 104)",
          "pattern": {
           "shape": ""
          }
         },
         "name": "",
         "offsetgroup": "",
         "orientation": "v",
         "showlegend": false,
         "textposition": "auto",
         "type": "bar",
         "x": [
          "Andaman And Nicobar",
          "Andhra Pradesh",
          "Arunachal Pradesh",
          "Assam",
          "Bihar",
          "Chandigarh",
          "Chhattisgarh",
          "Dadra And Nagar Haveli And Daman And Diu",
          "Delhi",
          "Goa",
          "Gujarat",
          "Haryana",
          "Himachal Pradesh",
          "Jammu & Kashmir",
          "Jharkhand",
          "Karnataka",
          "Kerala",
          "Ladakh",
          "Lakshadweep",
          "Madhya Pradesh",
          "Maharashtra",
          "Manipur",
          "Meghalaya",
          "Mizoram",
          "Nagaland",
          "Odisha",
          "Puducherry",
          "Punjab",
          "Rajasthan",
          "Sikkim",
          "Tamil Nadu",
          "Telangana",
          "Tripura",
          "Uttar Pradesh",
          "Uttarakhand",
          "West Bengal"
         ],
         "xaxis": "x",
         "y": [
          3344106,
          3193603314,
          14086718,
          248939534,
          1406668314,
          45872130,
          466162578,
          22673764,
          1717920470,
          55196412,
          1077703386,
          1012160616,
          87657924,
          93934116,
          530857104,
          5478937030,
          468718764,
          3792610,
          98618,
          2282129192,
          5790164576,
          28037290,
          8390328,
          3511546,
          10189926,
          1309145470,
          37102710,
          307669864,
          2856228616,
          9043684,
          1492456992,
          4614632390,
          15715490,
          2318299988,
          232024796,
          1333788074
         ],
         "yaxis": "y"
        }
       ],
       "layout": {
        "barmode": "relative",
        "height": 600,
        "legend": {
         "tracegroupgap": 0
        },
        "template": {
         "data": {
          "bar": [
           {
            "error_x": {
             "color": "#2a3f5f"
            },
            "error_y": {
             "color": "#2a3f5f"
            },
            "marker": {
             "line": {
              "color": "#E5ECF6",
              "width": 0.5
             },
             "pattern": {
              "fillmode": "overlay",
              "size": 10,
              "solidity": 0.2
             }
            },
            "type": "bar"
           }
          ],
          "barpolar": [
           {
            "marker": {
             "line": {
              "color": "#E5ECF6",
              "width": 0.5
             },
             "pattern": {
              "fillmode": "overlay",
              "size": 10,
              "solidity": 0.2
             }
            },
            "type": "barpolar"
           }
          ],
          "carpet": [
           {
            "aaxis": {
             "endlinecolor": "#2a3f5f",
             "gridcolor": "white",
             "linecolor": "white",
             "minorgridcolor": "white",
             "startlinecolor": "#2a3f5f"
            },
            "baxis": {
             "endlinecolor": "#2a3f5f",
             "gridcolor": "white",
             "linecolor": "white",
             "minorgridcolor": "white",
             "startlinecolor": "#2a3f5f"
            },
            "type": "carpet"
           }
          ],
          "choropleth": [
           {
            "colorbar": {
             "outlinewidth": 0,
             "ticks": ""
            },
            "type": "choropleth"
           }
          ],
          "contour": [
           {
            "colorbar": {
             "outlinewidth": 0,
             "ticks": ""
            },
            "colorscale": [
             [
              0,
              "#0d0887"
             ],
             [
              0.1111111111111111,
              "#46039f"
             ],
             [
              0.2222222222222222,
              "#7201a8"
             ],
             [
              0.3333333333333333,
              "#9c179e"
             ],
             [
              0.4444444444444444,
              "#bd3786"
             ],
             [
              0.5555555555555556,
              "#d8576b"
             ],
             [
              0.6666666666666666,
              "#ed7953"
             ],
             [
              0.7777777777777778,
              "#fb9f3a"
             ],
             [
              0.8888888888888888,
              "#fdca26"
             ],
             [
              1,
              "#f0f921"
             ]
            ],
            "type": "contour"
           }
          ],
          "contourcarpet": [
           {
            "colorbar": {
             "outlinewidth": 0,
             "ticks": ""
            },
            "type": "contourcarpet"
           }
          ],
          "heatmap": [
           {
            "colorbar": {
             "outlinewidth": 0,
             "ticks": ""
            },
            "colorscale": [
             [
              0,
              "#0d0887"
             ],
             [
              0.1111111111111111,
              "#46039f"
             ],
             [
              0.2222222222222222,
              "#7201a8"
             ],
             [
              0.3333333333333333,
              "#9c179e"
             ],
             [
              0.4444444444444444,
              "#bd3786"
             ],
             [
              0.5555555555555556,
              "#d8576b"
             ],
             [
              0.6666666666666666,
              "#ed7953"
             ],
             [
              0.7777777777777778,
              "#fb9f3a"
             ],
             [
              0.8888888888888888,
              "#fdca26"
             ],
             [
              1,
              "#f0f921"
             ]
            ],
            "type": "heatmap"
           }
          ],
          "heatmapgl": [
           {
            "colorbar": {
             "outlinewidth": 0,
             "ticks": ""
            },
            "colorscale": [
             [
              0,
              "#0d0887"
             ],
             [
              0.1111111111111111,
              "#46039f"
             ],
             [
              0.2222222222222222,
              "#7201a8"
             ],
             [
              0.3333333333333333,
              "#9c179e"
             ],
             [
              0.4444444444444444,
              "#bd3786"
             ],
             [
              0.5555555555555556,
              "#d8576b"
             ],
             [
              0.6666666666666666,
              "#ed7953"
             ],
             [
              0.7777777777777778,
              "#fb9f3a"
             ],
             [
              0.8888888888888888,
              "#fdca26"
             ],
             [
              1,
              "#f0f921"
             ]
            ],
            "type": "heatmapgl"
           }
          ],
          "histogram": [
           {
            "marker": {
             "pattern": {
              "fillmode": "overlay",
              "size": 10,
              "solidity": 0.2
             }
            },
            "type": "histogram"
           }
          ],
          "histogram2d": [
           {
            "colorbar": {
             "outlinewidth": 0,
             "ticks": ""
            },
            "colorscale": [
             [
              0,
              "#0d0887"
             ],
             [
              0.1111111111111111,
              "#46039f"
             ],
             [
              0.2222222222222222,
              "#7201a8"
             ],
             [
              0.3333333333333333,
              "#9c179e"
             ],
             [
              0.4444444444444444,
              "#bd3786"
             ],
             [
              0.5555555555555556,
              "#d8576b"
             ],
             [
              0.6666666666666666,
              "#ed7953"
             ],
             [
              0.7777777777777778,
              "#fb9f3a"
             ],
             [
              0.8888888888888888,
              "#fdca26"
             ],
             [
              1,
              "#f0f921"
             ]
            ],
            "type": "histogram2d"
           }
          ],
          "histogram2dcontour": [
           {
            "colorbar": {
             "outlinewidth": 0,
             "ticks": ""
            },
            "colorscale": [
             [
              0,
              "#0d0887"
             ],
             [
              0.1111111111111111,
              "#46039f"
             ],
             [
              0.2222222222222222,
              "#7201a8"
             ],
             [
              0.3333333333333333,
              "#9c179e"
             ],
             [
              0.4444444444444444,
              "#bd3786"
             ],
             [
              0.5555555555555556,
              "#d8576b"
             ],
             [
              0.6666666666666666,
              "#ed7953"
             ],
             [
              0.7777777777777778,
              "#fb9f3a"
             ],
             [
              0.8888888888888888,
              "#fdca26"
             ],
             [
              1,
              "#f0f921"
             ]
            ],
            "type": "histogram2dcontour"
           }
          ],
          "mesh3d": [
           {
            "colorbar": {
             "outlinewidth": 0,
             "ticks": ""
            },
            "type": "mesh3d"
           }
          ],
          "parcoords": [
           {
            "line": {
             "colorbar": {
              "outlinewidth": 0,
              "ticks": ""
             }
            },
            "type": "parcoords"
           }
          ],
          "pie": [
           {
            "automargin": true,
            "type": "pie"
           }
          ],
          "scatter": [
           {
            "fillpattern": {
             "fillmode": "overlay",
             "size": 10,
             "solidity": 0.2
            },
            "type": "scatter"
           }
          ],
          "scatter3d": [
           {
            "line": {
             "colorbar": {
              "outlinewidth": 0,
              "ticks": ""
             }
            },
            "marker": {
             "colorbar": {
              "outlinewidth": 0,
              "ticks": ""
             }
            },
            "type": "scatter3d"
           }
          ],
          "scattercarpet": [
           {
            "marker": {
             "colorbar": {
              "outlinewidth": 0,
              "ticks": ""
             }
            },
            "type": "scattercarpet"
           }
          ],
          "scattergeo": [
           {
            "marker": {
             "colorbar": {
              "outlinewidth": 0,
              "ticks": ""
             }
            },
            "type": "scattergeo"
           }
          ],
          "scattergl": [
           {
            "marker": {
             "colorbar": {
              "outlinewidth": 0,
              "ticks": ""
             }
            },
            "type": "scattergl"
           }
          ],
          "scattermapbox": [
           {
            "marker": {
             "colorbar": {
              "outlinewidth": 0,
              "ticks": ""
             }
            },
            "type": "scattermapbox"
           }
          ],
          "scatterpolar": [
           {
            "marker": {
             "colorbar": {
              "outlinewidth": 0,
              "ticks": ""
             }
            },
            "type": "scatterpolar"
           }
          ],
          "scatterpolargl": [
           {
            "marker": {
             "colorbar": {
              "outlinewidth": 0,
              "ticks": ""
             }
            },
            "type": "scatterpolargl"
           }
          ],
          "scatterternary": [
           {
            "marker": {
             "colorbar": {
              "outlinewidth": 0,
              "ticks": ""
             }
            },
            "type": "scatterternary"
           }
          ],
          "surface": [
           {
            "colorbar": {
             "outlinewidth": 0,
             "ticks": ""
            },
            "colorscale": [
             [
              0,
              "#0d0887"
             ],
             [
              0.1111111111111111,
              "#46039f"
             ],
             [
              0.2222222222222222,
              "#7201a8"
             ],
             [
              0.3333333333333333,
              "#9c179e"
             ],
             [
              0.4444444444444444,
              "#bd3786"
             ],
             [
              0.5555555555555556,
              "#d8576b"
             ],
             [
              0.6666666666666666,
              "#ed7953"
             ],
             [
              0.7777777777777778,
              "#fb9f3a"
             ],
             [
              0.8888888888888888,
              "#fdca26"
             ],
             [
              1,
              "#f0f921"
             ]
            ],
            "type": "surface"
           }
          ],
          "table": [
           {
            "cells": {
             "fill": {
              "color": "#EBF0F8"
             },
             "line": {
              "color": "white"
             }
            },
            "header": {
             "fill": {
              "color": "#C8D4E3"
             },
             "line": {
              "color": "white"
             }
            },
            "type": "table"
           }
          ]
         },
         "layout": {
          "annotationdefaults": {
           "arrowcolor": "#2a3f5f",
           "arrowhead": 0,
           "arrowwidth": 1
          },
          "autotypenumbers": "strict",
          "coloraxis": {
           "colorbar": {
            "outlinewidth": 0,
            "ticks": ""
           }
          },
          "colorscale": {
           "diverging": [
            [
             0,
             "#8e0152"
            ],
            [
             0.1,
             "#c51b7d"
            ],
            [
             0.2,
             "#de77ae"
            ],
            [
             0.3,
             "#f1b6da"
            ],
            [
             0.4,
             "#fde0ef"
            ],
            [
             0.5,
             "#f7f7f7"
            ],
            [
             0.6,
             "#e6f5d0"
            ],
            [
             0.7,
             "#b8e186"
            ],
            [
             0.8,
             "#7fbc41"
            ],
            [
             0.9,
             "#4d9221"
            ],
            [
             1,
             "#276419"
            ]
           ],
           "sequential": [
            [
             0,
             "#0d0887"
            ],
            [
             0.1111111111111111,
             "#46039f"
            ],
            [
             0.2222222222222222,
             "#7201a8"
            ],
            [
             0.3333333333333333,
             "#9c179e"
            ],
            [
             0.4444444444444444,
             "#bd3786"
            ],
            [
             0.5555555555555556,
             "#d8576b"
            ],
            [
             0.6666666666666666,
             "#ed7953"
            ],
            [
             0.7777777777777778,
             "#fb9f3a"
            ],
            [
             0.8888888888888888,
             "#fdca26"
            ],
            [
             1,
             "#f0f921"
            ]
           ],
           "sequentialminus": [
            [
             0,
             "#0d0887"
            ],
            [
             0.1111111111111111,
             "#46039f"
            ],
            [
             0.2222222222222222,
             "#7201a8"
            ],
            [
             0.3333333333333333,
             "#9c179e"
            ],
            [
             0.4444444444444444,
             "#bd3786"
            ],
            [
             0.5555555555555556,
             "#d8576b"
            ],
            [
             0.6666666666666666,
             "#ed7953"
            ],
            [
             0.7777777777777778,
             "#fb9f3a"
            ],
            [
             0.8888888888888888,
             "#fdca26"
            ],
            [
             1,
             "#f0f921"
            ]
           ]
          },
          "colorway": [
           "#636efa",
           "#EF553B",
           "#00cc96",
           "#ab63fa",
           "#FFA15A",
           "#19d3f3",
           "#FF6692",
           "#B6E880",
           "#FF97FF",
           "#FECB52"
          ],
          "font": {
           "color": "#2a3f5f"
          },
          "geo": {
           "bgcolor": "white",
           "lakecolor": "white",
           "landcolor": "#E5ECF6",
           "showlakes": true,
           "showland": true,
           "subunitcolor": "white"
          },
          "hoverlabel": {
           "align": "left"
          },
          "hovermode": "closest",
          "mapbox": {
           "style": "light"
          },
          "paper_bgcolor": "white",
          "plot_bgcolor": "#E5ECF6",
          "polar": {
           "angularaxis": {
            "gridcolor": "white",
            "linecolor": "white",
            "ticks": ""
           },
           "bgcolor": "#E5ECF6",
           "radialaxis": {
            "gridcolor": "white",
            "linecolor": "white",
            "ticks": ""
           }
          },
          "scene": {
           "xaxis": {
            "backgroundcolor": "#E5ECF6",
            "gridcolor": "white",
            "gridwidth": 2,
            "linecolor": "white",
            "showbackground": true,
            "ticks": "",
            "zerolinecolor": "white"
           },
           "yaxis": {
            "backgroundcolor": "#E5ECF6",
            "gridcolor": "white",
            "gridwidth": 2,
            "linecolor": "white",
            "showbackground": true,
            "ticks": "",
            "zerolinecolor": "white"
           },
           "zaxis": {
            "backgroundcolor": "#E5ECF6",
            "gridcolor": "white",
            "gridwidth": 2,
            "linecolor": "white",
            "showbackground": true,
            "ticks": "",
            "zerolinecolor": "white"
           }
          },
          "shapedefaults": {
           "line": {
            "color": "#2a3f5f"
           }
          },
          "ternary": {
           "aaxis": {
            "gridcolor": "white",
            "linecolor": "white",
            "ticks": ""
           },
           "baxis": {
            "gridcolor": "white",
            "linecolor": "white",
            "ticks": ""
           },
           "bgcolor": "#E5ECF6",
           "caxis": {
            "gridcolor": "white",
            "linecolor": "white",
            "ticks": ""
           }
          },
          "title": {
           "x": 0.05
          },
          "xaxis": {
           "automargin": true,
           "gridcolor": "white",
           "linecolor": "white",
           "ticks": "",
           "title": {
            "standoff": 15
           },
           "zerolinecolor": "white",
           "zerolinewidth": 2
          },
          "yaxis": {
           "automargin": true,
           "gridcolor": "white",
           "linecolor": "white",
           "ticks": "",
           "title": {
            "standoff": 15
           },
           "zerolinecolor": "white",
           "zerolinewidth": 2
          }
         }
        },
        "title": {
         "text": "Transaction count"
        },
        "width": 750,
        "xaxis": {
         "anchor": "y",
         "domain": [
          0,
          1
         ],
         "title": {
          "text": "State"
         }
        },
        "yaxis": {
         "anchor": "x",
         "domain": [
          0,
          1
         ],
         "title": {
          "text": "Transaction count"
         }
        }
       }
      }
     },
     "metadata": {},
     "output_type": "display_data"
    }
   ],
   "source": [
    "figure_trans_count"
   ]
  },
  {
   "cell_type": "code",
   "execution_count": 66,
   "metadata": {},
   "outputs": [
    {
     "data": {
      "application/vnd.plotly.v1+json": {
       "config": {
        "plotlyServerURL": "https://plot.ly"
       },
       "data": [
        {
         "alignmentgroup": "True",
         "hovertemplate": "State=%{x}<br>Transaction amount=%{y}<extra></extra>",
         "legendgroup": "",
         "marker": {
          "color": "rgb(255,0,0)",
          "pattern": {
           "shape": ""
          }
         },
         "name": "",
         "offsetgroup": "",
         "orientation": "v",
         "showlegend": false,
         "textposition": "auto",
         "type": "bar",
         "x": [
          "Andaman And Nicobar",
          "Andhra Pradesh",
          "Arunachal Pradesh",
          "Assam",
          "Bihar",
          "Chandigarh",
          "Chhattisgarh",
          "Dadra And Nagar Haveli And Daman And Diu",
          "Delhi",
          "Goa",
          "Gujarat",
          "Haryana",
          "Himachal Pradesh",
          "Jammu & Kashmir",
          "Jharkhand",
          "Karnataka",
          "Kerala",
          "Ladakh",
          "Lakshadweep",
          "Madhya Pradesh",
          "Maharashtra",
          "Manipur",
          "Meghalaya",
          "Mizoram",
          "Nagaland",
          "Odisha",
          "Puducherry",
          "Punjab",
          "Rajasthan",
          "Sikkim",
          "Tamil Nadu",
          "Telangana",
          "Tripura",
          "Uttar Pradesh",
          "Uttarakhand",
          "West Bengal"
         ],
         "xaxis": "x",
         "y": [
          9850976162,
          7327329303864,
          41783678446,
          580808810176,
          3143976559826,
          84407122630,
          778287666604,
          31990159722,
          2842846146674,
          93751558350,
          2017740082868,
          1838726693764,
          156125328050,
          220953572792,
          952180261112,
          8203177144298,
          737032150630,
          13556397580,
          288455190,
          3860669637348,
          8639236372144,
          76050897092,
          21733796772,
          10936788904,
          30380490164,
          2296587244576,
          63103540998,
          649849265472,
          5335282187828,
          23657374864,
          2642173521100,
          8938729825274,
          33329118330,
          4418863776192,
          387909224434,
          2694094244108
         ],
         "yaxis": "y"
        }
       ],
       "layout": {
        "barmode": "relative",
        "height": 600,
        "legend": {
         "tracegroupgap": 0
        },
        "margin": {
         "t": 60
        },
        "template": {
         "data": {
          "bar": [
           {
            "error_x": {
             "color": "#2a3f5f"
            },
            "error_y": {
             "color": "#2a3f5f"
            },
            "marker": {
             "line": {
              "color": "#E5ECF6",
              "width": 0.5
             },
             "pattern": {
              "fillmode": "overlay",
              "size": 10,
              "solidity": 0.2
             }
            },
            "type": "bar"
           }
          ],
          "barpolar": [
           {
            "marker": {
             "line": {
              "color": "#E5ECF6",
              "width": 0.5
             },
             "pattern": {
              "fillmode": "overlay",
              "size": 10,
              "solidity": 0.2
             }
            },
            "type": "barpolar"
           }
          ],
          "carpet": [
           {
            "aaxis": {
             "endlinecolor": "#2a3f5f",
             "gridcolor": "white",
             "linecolor": "white",
             "minorgridcolor": "white",
             "startlinecolor": "#2a3f5f"
            },
            "baxis": {
             "endlinecolor": "#2a3f5f",
             "gridcolor": "white",
             "linecolor": "white",
             "minorgridcolor": "white",
             "startlinecolor": "#2a3f5f"
            },
            "type": "carpet"
           }
          ],
          "choropleth": [
           {
            "colorbar": {
             "outlinewidth": 0,
             "ticks": ""
            },
            "type": "choropleth"
           }
          ],
          "contour": [
           {
            "colorbar": {
             "outlinewidth": 0,
             "ticks": ""
            },
            "colorscale": [
             [
              0,
              "#0d0887"
             ],
             [
              0.1111111111111111,
              "#46039f"
             ],
             [
              0.2222222222222222,
              "#7201a8"
             ],
             [
              0.3333333333333333,
              "#9c179e"
             ],
             [
              0.4444444444444444,
              "#bd3786"
             ],
             [
              0.5555555555555556,
              "#d8576b"
             ],
             [
              0.6666666666666666,
              "#ed7953"
             ],
             [
              0.7777777777777778,
              "#fb9f3a"
             ],
             [
              0.8888888888888888,
              "#fdca26"
             ],
             [
              1,
              "#f0f921"
             ]
            ],
            "type": "contour"
           }
          ],
          "contourcarpet": [
           {
            "colorbar": {
             "outlinewidth": 0,
             "ticks": ""
            },
            "type": "contourcarpet"
           }
          ],
          "heatmap": [
           {
            "colorbar": {
             "outlinewidth": 0,
             "ticks": ""
            },
            "colorscale": [
             [
              0,
              "#0d0887"
             ],
             [
              0.1111111111111111,
              "#46039f"
             ],
             [
              0.2222222222222222,
              "#7201a8"
             ],
             [
              0.3333333333333333,
              "#9c179e"
             ],
             [
              0.4444444444444444,
              "#bd3786"
             ],
             [
              0.5555555555555556,
              "#d8576b"
             ],
             [
              0.6666666666666666,
              "#ed7953"
             ],
             [
              0.7777777777777778,
              "#fb9f3a"
             ],
             [
              0.8888888888888888,
              "#fdca26"
             ],
             [
              1,
              "#f0f921"
             ]
            ],
            "type": "heatmap"
           }
          ],
          "heatmapgl": [
           {
            "colorbar": {
             "outlinewidth": 0,
             "ticks": ""
            },
            "colorscale": [
             [
              0,
              "#0d0887"
             ],
             [
              0.1111111111111111,
              "#46039f"
             ],
             [
              0.2222222222222222,
              "#7201a8"
             ],
             [
              0.3333333333333333,
              "#9c179e"
             ],
             [
              0.4444444444444444,
              "#bd3786"
             ],
             [
              0.5555555555555556,
              "#d8576b"
             ],
             [
              0.6666666666666666,
              "#ed7953"
             ],
             [
              0.7777777777777778,
              "#fb9f3a"
             ],
             [
              0.8888888888888888,
              "#fdca26"
             ],
             [
              1,
              "#f0f921"
             ]
            ],
            "type": "heatmapgl"
           }
          ],
          "histogram": [
           {
            "marker": {
             "pattern": {
              "fillmode": "overlay",
              "size": 10,
              "solidity": 0.2
             }
            },
            "type": "histogram"
           }
          ],
          "histogram2d": [
           {
            "colorbar": {
             "outlinewidth": 0,
             "ticks": ""
            },
            "colorscale": [
             [
              0,
              "#0d0887"
             ],
             [
              0.1111111111111111,
              "#46039f"
             ],
             [
              0.2222222222222222,
              "#7201a8"
             ],
             [
              0.3333333333333333,
              "#9c179e"
             ],
             [
              0.4444444444444444,
              "#bd3786"
             ],
             [
              0.5555555555555556,
              "#d8576b"
             ],
             [
              0.6666666666666666,
              "#ed7953"
             ],
             [
              0.7777777777777778,
              "#fb9f3a"
             ],
             [
              0.8888888888888888,
              "#fdca26"
             ],
             [
              1,
              "#f0f921"
             ]
            ],
            "type": "histogram2d"
           }
          ],
          "histogram2dcontour": [
           {
            "colorbar": {
             "outlinewidth": 0,
             "ticks": ""
            },
            "colorscale": [
             [
              0,
              "#0d0887"
             ],
             [
              0.1111111111111111,
              "#46039f"
             ],
             [
              0.2222222222222222,
              "#7201a8"
             ],
             [
              0.3333333333333333,
              "#9c179e"
             ],
             [
              0.4444444444444444,
              "#bd3786"
             ],
             [
              0.5555555555555556,
              "#d8576b"
             ],
             [
              0.6666666666666666,
              "#ed7953"
             ],
             [
              0.7777777777777778,
              "#fb9f3a"
             ],
             [
              0.8888888888888888,
              "#fdca26"
             ],
             [
              1,
              "#f0f921"
             ]
            ],
            "type": "histogram2dcontour"
           }
          ],
          "mesh3d": [
           {
            "colorbar": {
             "outlinewidth": 0,
             "ticks": ""
            },
            "type": "mesh3d"
           }
          ],
          "parcoords": [
           {
            "line": {
             "colorbar": {
              "outlinewidth": 0,
              "ticks": ""
             }
            },
            "type": "parcoords"
           }
          ],
          "pie": [
           {
            "automargin": true,
            "type": "pie"
           }
          ],
          "scatter": [
           {
            "fillpattern": {
             "fillmode": "overlay",
             "size": 10,
             "solidity": 0.2
            },
            "type": "scatter"
           }
          ],
          "scatter3d": [
           {
            "line": {
             "colorbar": {
              "outlinewidth": 0,
              "ticks": ""
             }
            },
            "marker": {
             "colorbar": {
              "outlinewidth": 0,
              "ticks": ""
             }
            },
            "type": "scatter3d"
           }
          ],
          "scattercarpet": [
           {
            "marker": {
             "colorbar": {
              "outlinewidth": 0,
              "ticks": ""
             }
            },
            "type": "scattercarpet"
           }
          ],
          "scattergeo": [
           {
            "marker": {
             "colorbar": {
              "outlinewidth": 0,
              "ticks": ""
             }
            },
            "type": "scattergeo"
           }
          ],
          "scattergl": [
           {
            "marker": {
             "colorbar": {
              "outlinewidth": 0,
              "ticks": ""
             }
            },
            "type": "scattergl"
           }
          ],
          "scattermapbox": [
           {
            "marker": {
             "colorbar": {
              "outlinewidth": 0,
              "ticks": ""
             }
            },
            "type": "scattermapbox"
           }
          ],
          "scatterpolar": [
           {
            "marker": {
             "colorbar": {
              "outlinewidth": 0,
              "ticks": ""
             }
            },
            "type": "scatterpolar"
           }
          ],
          "scatterpolargl": [
           {
            "marker": {
             "colorbar": {
              "outlinewidth": 0,
              "ticks": ""
             }
            },
            "type": "scatterpolargl"
           }
          ],
          "scatterternary": [
           {
            "marker": {
             "colorbar": {
              "outlinewidth": 0,
              "ticks": ""
             }
            },
            "type": "scatterternary"
           }
          ],
          "surface": [
           {
            "colorbar": {
             "outlinewidth": 0,
             "ticks": ""
            },
            "colorscale": [
             [
              0,
              "#0d0887"
             ],
             [
              0.1111111111111111,
              "#46039f"
             ],
             [
              0.2222222222222222,
              "#7201a8"
             ],
             [
              0.3333333333333333,
              "#9c179e"
             ],
             [
              0.4444444444444444,
              "#bd3786"
             ],
             [
              0.5555555555555556,
              "#d8576b"
             ],
             [
              0.6666666666666666,
              "#ed7953"
             ],
             [
              0.7777777777777778,
              "#fb9f3a"
             ],
             [
              0.8888888888888888,
              "#fdca26"
             ],
             [
              1,
              "#f0f921"
             ]
            ],
            "type": "surface"
           }
          ],
          "table": [
           {
            "cells": {
             "fill": {
              "color": "#EBF0F8"
             },
             "line": {
              "color": "white"
             }
            },
            "header": {
             "fill": {
              "color": "#C8D4E3"
             },
             "line": {
              "color": "white"
             }
            },
            "type": "table"
           }
          ]
         },
         "layout": {
          "annotationdefaults": {
           "arrowcolor": "#2a3f5f",
           "arrowhead": 0,
           "arrowwidth": 1
          },
          "autotypenumbers": "strict",
          "coloraxis": {
           "colorbar": {
            "outlinewidth": 0,
            "ticks": ""
           }
          },
          "colorscale": {
           "diverging": [
            [
             0,
             "#8e0152"
            ],
            [
             0.1,
             "#c51b7d"
            ],
            [
             0.2,
             "#de77ae"
            ],
            [
             0.3,
             "#f1b6da"
            ],
            [
             0.4,
             "#fde0ef"
            ],
            [
             0.5,
             "#f7f7f7"
            ],
            [
             0.6,
             "#e6f5d0"
            ],
            [
             0.7,
             "#b8e186"
            ],
            [
             0.8,
             "#7fbc41"
            ],
            [
             0.9,
             "#4d9221"
            ],
            [
             1,
             "#276419"
            ]
           ],
           "sequential": [
            [
             0,
             "#0d0887"
            ],
            [
             0.1111111111111111,
             "#46039f"
            ],
            [
             0.2222222222222222,
             "#7201a8"
            ],
            [
             0.3333333333333333,
             "#9c179e"
            ],
            [
             0.4444444444444444,
             "#bd3786"
            ],
            [
             0.5555555555555556,
             "#d8576b"
            ],
            [
             0.6666666666666666,
             "#ed7953"
            ],
            [
             0.7777777777777778,
             "#fb9f3a"
            ],
            [
             0.8888888888888888,
             "#fdca26"
            ],
            [
             1,
             "#f0f921"
            ]
           ],
           "sequentialminus": [
            [
             0,
             "#0d0887"
            ],
            [
             0.1111111111111111,
             "#46039f"
            ],
            [
             0.2222222222222222,
             "#7201a8"
            ],
            [
             0.3333333333333333,
             "#9c179e"
            ],
            [
             0.4444444444444444,
             "#bd3786"
            ],
            [
             0.5555555555555556,
             "#d8576b"
            ],
            [
             0.6666666666666666,
             "#ed7953"
            ],
            [
             0.7777777777777778,
             "#fb9f3a"
            ],
            [
             0.8888888888888888,
             "#fdca26"
            ],
            [
             1,
             "#f0f921"
            ]
           ]
          },
          "colorway": [
           "#636efa",
           "#EF553B",
           "#00cc96",
           "#ab63fa",
           "#FFA15A",
           "#19d3f3",
           "#FF6692",
           "#B6E880",
           "#FF97FF",
           "#FECB52"
          ],
          "font": {
           "color": "#2a3f5f"
          },
          "geo": {
           "bgcolor": "white",
           "lakecolor": "white",
           "landcolor": "#E5ECF6",
           "showlakes": true,
           "showland": true,
           "subunitcolor": "white"
          },
          "hoverlabel": {
           "align": "left"
          },
          "hovermode": "closest",
          "mapbox": {
           "style": "light"
          },
          "paper_bgcolor": "white",
          "plot_bgcolor": "#E5ECF6",
          "polar": {
           "angularaxis": {
            "gridcolor": "white",
            "linecolor": "white",
            "ticks": ""
           },
           "bgcolor": "#E5ECF6",
           "radialaxis": {
            "gridcolor": "white",
            "linecolor": "white",
            "ticks": ""
           }
          },
          "scene": {
           "xaxis": {
            "backgroundcolor": "#E5ECF6",
            "gridcolor": "white",
            "gridwidth": 2,
            "linecolor": "white",
            "showbackground": true,
            "ticks": "",
            "zerolinecolor": "white"
           },
           "yaxis": {
            "backgroundcolor": "#E5ECF6",
            "gridcolor": "white",
            "gridwidth": 2,
            "linecolor": "white",
            "showbackground": true,
            "ticks": "",
            "zerolinecolor": "white"
           },
           "zaxis": {
            "backgroundcolor": "#E5ECF6",
            "gridcolor": "white",
            "gridwidth": 2,
            "linecolor": "white",
            "showbackground": true,
            "ticks": "",
            "zerolinecolor": "white"
           }
          },
          "shapedefaults": {
           "line": {
            "color": "#2a3f5f"
           }
          },
          "ternary": {
           "aaxis": {
            "gridcolor": "white",
            "linecolor": "white",
            "ticks": ""
           },
           "baxis": {
            "gridcolor": "white",
            "linecolor": "white",
            "ticks": ""
           },
           "bgcolor": "#E5ECF6",
           "caxis": {
            "gridcolor": "white",
            "linecolor": "white",
            "ticks": ""
           }
          },
          "title": {
           "x": 0.05
          },
          "xaxis": {
           "automargin": true,
           "gridcolor": "white",
           "linecolor": "white",
           "ticks": "",
           "title": {
            "standoff": 15
           },
           "zerolinecolor": "white",
           "zerolinewidth": 2
          },
          "yaxis": {
           "automargin": true,
           "gridcolor": "white",
           "linecolor": "white",
           "ticks": "",
           "title": {
            "standoff": 15
           },
           "zerolinecolor": "white",
           "zerolinewidth": 2
          }
         }
        },
        "width": 750,
        "xaxis": {
         "anchor": "y",
         "domain": [
          0,
          1
         ],
         "title": {
          "text": "State"
         }
        },
        "yaxis": {
         "anchor": "x",
         "domain": [
          0,
          1
         ],
         "title": {
          "text": "Transaction amount"
         }
        }
       }
      }
     },
     "metadata": {},
     "output_type": "display_data"
    }
   ],
   "source": [
    "figure_trans_amount\n"
   ]
  },
  {
   "cell_type": "code",
   "execution_count": null,
   "metadata": {},
   "outputs": [],
   "source": []
  }
 ],
 "metadata": {
  "kernelspec": {
   "display_name": "base",
   "language": "python",
   "name": "python3"
  },
  "language_info": {
   "codemirror_mode": {
    "name": "ipython",
    "version": 3
   },
   "file_extension": ".py",
   "mimetype": "text/x-python",
   "name": "python",
   "nbconvert_exporter": "python",
   "pygments_lexer": "ipython3",
   "version": "3.11.5"
  }
 },
 "nbformat": 4,
 "nbformat_minor": 2
}
