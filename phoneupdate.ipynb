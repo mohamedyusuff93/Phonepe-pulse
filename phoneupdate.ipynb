{
 "cells": [
  {
   "cell_type": "code",
   "execution_count": 2,
   "metadata": {},
   "outputs": [],
   "source": [
    "import json\n",
    "import pandas as pd\n",
    "import os\n",
    "from psycopg2 import connect\n",
    "import plotly_express as px"
   ]
  },
  {
   "cell_type": "code",
   "execution_count": 3,
   "metadata": {},
   "outputs": [],
   "source": [
    "import requests"
   ]
  },
  {
   "cell_type": "code",
   "execution_count": 4,
   "metadata": {},
   "outputs": [],
   "source": [
    "myconnection=connect(host='127.0.0.1',user='postgres',password='yusuff@12345',port='5432',database='phonepe')\n",
    "cursor=myconnection.cursor()\n",
    "\n",
    "cursor.execute(\"SELECT * FROM agg_transaction\")\n",
    "myconnection.commit()\n",
    "table1=cursor.fetchall()\n",
    "agg_trans=pd.DataFrame(table1,columns=[\"State\",\"Quarter\",\"Transaction Type\",\"Transaction amount\",\"Transaction count\",\"Year\"])\n",
    "\n",
    "cursor.execute(\"SELECT * FROM agg_user\")\n",
    "myconnection.commit()\n",
    "table2=cursor.fetchall()\n",
    "agg_user=pd.DataFrame(table2,columns=[\"Mobile Brand\",\"Transaction count\",\"Percentage\",\"Quarter\",\"State\",\"Year\"])\n",
    "\n",
    "cursor.execute(\"SELECT * FROM map_transaction\")\n",
    "myconnection.commit()\n",
    "table3=cursor.fetchall()\n",
    "map_trans=pd.DataFrame(table3,columns=[\"City\",\"Transaction count\",\"Transaction amount\",\"Quarter\",\"Year\",\"State\"])\n",
    "\n",
    "cursor.execute(\"SELECT * FROM map_user\")\n",
    "myconnection.commit()\n",
    "table4=cursor.fetchall()\n",
    "map_user=pd.DataFrame(table4,columns=[\"District\",\"Registered Users\",\"App Opens\",\"Quarter\",\"Year\",\"State\"])\n",
    "\n",
    "cursor.execute(\"SELECT * FROM top_transaction\")\n",
    "myconnection.commit()\n",
    "table5=cursor.fetchall()\n",
    "top_trans=pd.DataFrame(table5,columns=[\"State\",\"Transaction Type\",\"Transaction count\",\"Transaction amount\",\"Quarter\",\"Year\"])\n",
    "\n",
    "cursor.execute(\"SELECT * FROM top_user\")\n",
    "myconnection.commit()\n",
    "table6=cursor.fetchall()\n",
    "top_user=pd.DataFrame(table6,columns=[\"District\",\"Registered Users\",\"Quarter\",\"Year\",\"State\"])"
   ]
  },
  {
   "cell_type": "code",
   "execution_count": 5,
   "metadata": {},
   "outputs": [],
   "source": [
    "def trans_amount_count(df,year):\n",
    "    trans_y=df[df['Year']==year]\n",
    "    trans_y.reset_index(drop=True,inplace=True)\n",
    "    trans_g=trans_y.groupby(\"State\")[['Transaction count','Transaction amount']].sum()\n",
    "    trans_g.reset_index(inplace=True)\n",
    "    figure_trans_count=px.bar(trans_g, x=\"State\" , y=\"Transaction count\",title=f\"{year} Transaction count\",height=600,width=750,color_discrete_sequence=px.colors.sequential.Aggrnyl)\n",
    "    figure_trans_amount=px.bar(trans_g,x='State',y=\"Transaction amount\",title=f\"{year} Transaction amount\",height=600,width=750,color_discrete_sequence=px.colors.sequential.Bluered_r)\n",
    "    figure_trans_count.show()\n",
    "    figure_trans_amount.show()\n",
    "    url='https://gist.githubusercontent.com/jbrobst/56c13bbbf9d97d187fea01ca62ea5112/raw/e388c4cae20aa53cb5090210a42ebb9b765c0a36/india_states.geojson'\n",
    "    response=requests.get(url)\n",
    "    data1=json.loads(response.content)\n",
    "    state_name=[]\n",
    "    for i in data1[\"features\"]:\n",
    "        state_name.append(i['properties']['ST_NM'])\n",
    "    state_name.sort()\n",
    "    fig_india=px.choropleth(trans_g,geojson=data1,locations=state_name,featureidkey='properties.ST_NM',color='Transaction amount',color_continuous_scale=\"twilight\",range_color=(trans_g['Transaction amount'].min(),trans_g['Transaction amount'].max()),hover_name='State',\n",
    "                            title=f\"{year} Transaction Amount\",fitbounds=\"locations\",height=600,width=600)\n",
    "    fig_india.update_geos(visible=False)\n",
    "    fig_india.show()\n",
    "    fig_india1=px.choropleth(trans_g,geojson=data1,locations=state_name,featureidkey='properties.ST_NM',color='Transaction count',color_continuous_scale=\"twilight\",range_color=(trans_g['Transaction count'].min(),trans_g['Transaction count'].max()),hover_name='State',\n",
    "                            title=f\"{year} Transaction count\",fitbounds=\"locations\",height=600,width=600)\n",
    "    fig_india1.update_geos(visible=False)\n",
    "    fig_india1.show()\n",
    "    return trans_y"
   ]
  },
  {
   "cell_type": "code",
   "execution_count": 6,
   "metadata": {},
   "outputs": [],
   "source": [
    "def trans_amount_count_quarter(df,quarter):\n",
    "    trans_q=df[df['Quarter']==quarter]\n",
    "    trans_q.reset_index(drop=True,inplace=True)\n",
    "    trans_g=trans_q.groupby(\"State\")[['Transaction count','Transaction amount']].sum()\n",
    "    trans_g.reset_index(inplace=True)\n",
    "    figure_trans_count=px.bar(trans_g, x=\"State\" , y=\"Transaction count\",title=f\"Quarter {quarter} of Year {df['Year'].unique()} Transaction count\",height=600,width=750,color_discrete_sequence=px.colors.sequential.Aggrnyl)\n",
    "    figure_trans_amount=px.bar(trans_g,x='State',y=\"Transaction amount\",title=f\"Quarter {quarter} of Year {df['Year'].unique()} Transaction amount\",height=600,width=750,color_discrete_sequence=px.colors.sequential.Bluered_r)\n",
    "    figure_trans_count.show()\n",
    "    figure_trans_amount.show()\n",
    "    url='https://gist.githubusercontent.com/jbrobst/56c13bbbf9d97d187fea01ca62ea5112/raw/e388c4cae20aa53cb5090210a42ebb9b765c0a36/india_states.geojson'\n",
    "    response=requests.get(url)\n",
    "    data1=json.loads(response.content)\n",
    "    state_name=[]\n",
    "    for i in data1[\"features\"]:\n",
    "        state_name.append(i['properties']['ST_NM'])\n",
    "    state_name.sort()\n",
    "    fig_india=px.choropleth(trans_g,geojson=data1,locations=state_name,featureidkey='properties.ST_NM',color='Transaction amount',color_continuous_scale=\"twilight\",range_color=(trans_g['Transaction amount'].min(),trans_g['Transaction amount'].max()),hover_name='State',\n",
    "                            title=f\"Quarter {quarter} of Year {df['Year'].unique()} Transaction Amount\",fitbounds=\"locations\",height=600,width=600)\n",
    "    fig_india.update_geos(visible=False)\n",
    "    fig_india.show()\n",
    "    fig_india1=px.choropleth(trans_g,geojson=data1,locations=state_name,featureidkey='properties.ST_NM',color='Transaction count',color_continuous_scale=\"twilight\",range_color=(trans_g['Transaction count'].min(),trans_g['Transaction count'].max()),hover_name='State',\n",
    "                            title=f\"Quarter {quarter} of Year {df['Year'].unique()} Transaction count\",fitbounds=\"locations\",height=600,width=600)\n",
    "    fig_india1.update_geos(visible=False)\n",
    "    fig_india1.show()\n",
    "    return trans_q"
   ]
  },
  {
   "cell_type": "code",
   "execution_count": null,
   "metadata": {},
   "outputs": [],
   "source": [
    "#trans_type\n",
    "trans_q=trans_year[trans_year['State']==\"West Bengal\"]\n",
    "trans_q.reset_index(drop=True,inplace=True)\n",
    "\n",
    "trans_g=trans_q.groupby(\"Transaction Type\")[['Transaction amount',\"Transaction count\"]].sum()\n",
    "trans_g.reset_index(inplace=True)\n",
    "trans_q\n",
    "fig_trans_amount_pie=px.pie(data_frame=trans_g,names='Transaction Type',values='Transaction amount',width=800,title=\"Transaction amount\",color=\"Transaction amount\"\n",
    "                            ,hole=0.2)\n",
    "fig_trans_amount_pie.show()\n",
    "fig_trans_count_pie=px.pie(data_frame=trans_g,names='Transaction Type',values='Transaction count',width=800,title=\"Transaction count\",color=\"Transaction count\",hole=0.2)\n",
    "fig_trans_count_pie.show()"
   ]
  },
  {
   "cell_type": "code",
   "execution_count": 11,
   "metadata": {},
   "outputs": [],
   "source": [
    "def user_transbr_fig(df,year):\n",
    "    user_y=df[df['Year']==year]\n",
    "    user_y.reset_index(drop=True,inplace=True)\n",
    "    users_g=user_y.groupby('Mobile Brand')[['Transaction count']].sum()\n",
    "    users_g.reset_index(inplace=True)\n",
    "    figure_user_count=px.bar(users_g, x=\"Mobile Brand\" , y=\"Transaction count\",title=f\"{year} Brand and Transaction count\",height=600,width=750,color_discrete_sequence=px.colors.sequential.Aggrnyl,hover_name=\"Mobile Brand\")\n",
    "    figure_user_count.show()"
   ]
  },
  {
   "cell_type": "code",
   "execution_count": 13,
   "metadata": {},
   "outputs": [],
   "source": [
    "def user_brtrans_count(df,quarter):\n",
    "    user_y=df[df['Quarter']==quarter]\n",
    "    user_y.reset_index(drop=True,inplace=True)\n",
    "    users_g=user_y.groupby(\"Mobile Brand\")[['Transaction count']].sum()\n",
    "    users_g.reset_index(inplace=True)\n",
    "    figure_trans_count=px.bar(users_g, x=\"Mobile Brand\" , y=\"Transaction count\",title=f\" Brands and Transaction count\",\n",
    "                              height=600,width=750,color_discrete_sequence=px.colors.sequential.Aggrnyl,hover_name='Mobile Brand')\n",
    "    figure_trans_count.show()"
   ]
  },
  {
   "cell_type": "code",
   "execution_count": 14,
   "metadata": {},
   "outputs": [],
   "source": [
    "def user_transbr_fig(df,year,state,quarter):\n",
    "    agg_state=df[df['State']==state]\n",
    "    agg_state.reset_index(drop=True,inplace=True)\n",
    "    agg_year=agg_state[agg_state['Year']==year]\n",
    "    agg_year.reset_index(drop=True,inplace=True)\n",
    "    agg_quat=agg_year[agg_year['Quarter']==quarter]\n",
    "    agg_quat.reset_index(drop=True,inplace=True)\n",
    "    agg_quat_g=agg_quat.groupby(\"Mobile Brand\")[['Transaction count']].sum()\n",
    "    agg_quat_g.reset_index(inplace=True)\n",
    "    fig_quat=px.bar(agg_quat_g,x=\"Mobile Brand\",y=\"Transaction count\",title=f\"{state}'s user transaction count in quarter {quarter} of year {year} figure\"\n",
    "                    ,hover_name=\"Mobile Brand\",color_discrete_sequence=px.colors.sequential.Aggrnyl)\n",
    "    fig_quat.show()"
   ]
  },
  {
   "cell_type": "code",
   "execution_count": null,
   "metadata": {},
   "outputs": [],
   "source": [
    "#def user_transbr_fig(df,year,state,quarter):\n",
    "agg_state=agg_user[agg_user['State']==\"Karnataka\"]\n",
    "agg_state.reset_index(drop=True,inplace=True)\n",
    "agg_year=agg_state[agg_state['Year']==2019]\n",
    "agg_year.reset_index(drop=True,inplace=True)\n",
    "agg_quat=agg_year[agg_year['Quarter']==3]\n",
    "agg_quat.reset_index(drop=True,inplace=True)\n",
    "agg_quat_g=agg_quat.groupby(\"Mobile Brand\")[['Transaction count']].sum()\n",
    "agg_quat_g.reset_index(inplace=True)\n",
    "fig_quat=px.bar(agg_quat_g,x=\"Mobile Brand\",y=\"Transaction count\",title=f\" user transaction count in quarter  of year  figure\"\n",
    "                    ,hover_name=\"Mobile Brand\",color_discrete_sequence=px.colors.sequential.Aggrnyl)\n",
    "fig_quat.show()"
   ]
  },
  {
   "cell_type": "code",
   "execution_count": 16,
   "metadata": {},
   "outputs": [],
   "source": [
    "def user_transbr_fig(df,state,year,quarter):\n",
    "    user_y=df[df['Year']==year]\n",
    "    user_y.reset_index(drop=True,inplace=True)\n",
    "    users_g=user_y.groupby('Mobile Brand')[['Transaction count']].sum()\n",
    "    users_g.reset_index(inplace=True)\n",
    "    figure_user_count=px.bar(users_g, x=\"Mobile Brand\" , y=\"Transaction count\",title=f\"{year} Brand and Transaction count\",height=600,width=750,color_discrete_sequence=px.colors.sequential.Aggrnyl,hover_name=\"Mobile Brand\")\n",
    "    figure_user_count.show()"
   ]
  },
  {
   "cell_type": "code",
   "execution_count": 17,
   "metadata": {},
   "outputs": [],
   "source": [
    "##map transaction\n",
    "def map_district(df,state):\n",
    "    trans_q=df[df['State']==state]\n",
    "    trans_q.reset_index(drop=True,inplace=True)\n",
    "\n",
    "    trans_q=trans_q.groupby(\"City\")[['Transaction amount',\"Transaction count\"]].sum()\n",
    "    trans_q.reset_index(inplace=True)\n",
    "    trans_q\n",
    "    fig_trans_amount_bar=px.bar(trans_q,x='Transaction amount',y='City',width=800,title=f\"{state} Transaction amount\",color=\"Transaction amount\"\n",
    "                                )\n",
    "    fig_trans_amount_bar.show()\n",
    "    fig_trans_count_bar1=px.bar(trans_q,x='Transaction count',y='City',width=800,title=f\"{state} Transaction count\",color=\"Transaction count\")\n",
    "    fig_trans_count_bar1.show()"
   ]
  },
  {
   "cell_type": "code",
   "execution_count": null,
   "metadata": {},
   "outputs": [],
   "source": [
    "#MAp user\n",
    "\n",
    "user_y=map_user[map_user['Year']==2020]\n",
    "user_y.reset_index(drop=True,inplace=True)\n",
    "state=user_y[user_y['State']=='West Bengal']\n",
    "users_g=state.groupby('District')[['Registered Users']].sum()\n",
    "users_g.reset_index(inplace=True)\n",
    "figure_user_count=px.bar(users_g, x=\"District\" , y=\"Registered Users\",title=f\"Brand and Transaction count\",height=600,width=750,color_discrete_sequence=px.colors.sequential.Aggrnyl,hover_name=\"District\")\n",
    "figure_user_count.show()\n",
    "\n",
    "#map_user"
   ]
  },
  {
   "cell_type": "code",
   "execution_count": 24,
   "metadata": {},
   "outputs": [],
   "source": [
    "#top transaction\n",
    "states1=top_trans[top_trans['State']==\"West Bengal\"]\n",
    "states1.reset_index(drop=True,inplace=True)\n",
    "year=states1[states1['Year']==2020]\n",
    "quarter1=year[year['Quarter']==3]\n",
    "#trans_type=quarter1[quarter1[\"Transaction Type\"]==\"Recharge & bill payments\"]\n",
    "quarter1.reset_index(drop=True,inplace=True)\n",
    "trans_type_g=quarter1.groupby(\"State\")[[\"Transaction count\"]].sum()\n",
    "trans_type_g.reset_index(drop=True,inplace=True)\n",
    "#top_fig_trans=px.bar(trans_type_g,x=\"State\",y=\"Transaction count\") "
   ]
  },
  {
   "cell_type": "code",
   "execution_count": null,
   "metadata": {},
   "outputs": [],
   "source": [
    "top_user_y=top_user[top_user['Year']==2020]\n",
    "top_user_y.reset_index(drop=True,inplace=True)\n",
    "top_state=top_user_y[top_user_y['State']=='West Bengal']\n",
    "top_users_g=top_state.groupby('District')[['Registered Users']].sum()\n",
    "top_users_g.reset_index(inplace=True)\n",
    "figure_top_user_count=px.bar(top_users_g, x=\"District\" , y=\"Registered Users\",title=f\"District and Transaction count\",height=600,width=750,color_discrete_sequence=px.colors.sequential.Aggrnyl,hover_name=\"District\")\n",
    "figure_top_user_count.show()\n"
   ]
  },
  {
   "cell_type": "code",
   "execution_count": null,
   "metadata": {},
   "outputs": [],
   "source": [
    "top_user_y=top_user[top_user['Year']==2020]\n",
    "top_user_y.reset_index(drop=True,inplace=True)\n",
    "top_user_g=top_user_y.groupby(\"State\")['Registered Users'].sum()\n",
    "df_g=pd.DataFrame(top_user_g)\n",
    "df_g.reset_index()\n",
    "url='https://gist.githubusercontent.com/jbrobst/56c13bbbf9d97d187fea01ca62ea5112/raw/e388c4cae20aa53cb5090210a42ebb9b765c0a36/india_states.geojson'\n",
    "response=requests.get(url)\n",
    "data1=json.loads(response.content)\n",
    "state_name=[]\n",
    "for i in data1[\"features\"]:\n",
    "    state_name.append(i['properties']['ST_NM'])\n",
    "state_name.sort()\n",
    "fig_india=px.choropleth(df_g,geojson=data1,locations=state_name,featureidkey='properties.ST_NM',color='Registered Users',color_continuous_scale=\"twilight\",range_color=(df_g['Registered Users'].min(),df_g['Registered Users'].max()),\n",
    "                        title=f\"Quarter  of Year  Transaction Amount\",fitbounds=\"locations\",height=600,width=600)\n",
    "fig_india.update_geos(visible=False)\n",
    "fig_india.show()\n"
   ]
  }
 ],
 "metadata": {
  "kernelspec": {
   "display_name": "base",
   "language": "python",
   "name": "python3"
  },
  "language_info": {
   "codemirror_mode": {
    "name": "ipython",
    "version": 3
   },
   "file_extension": ".py",
   "mimetype": "text/x-python",
   "name": "python",
   "nbconvert_exporter": "python",
   "pygments_lexer": "ipython3",
   "version": "3.11.5"
  }
 },
 "nbformat": 4,
 "nbformat_minor": 2
}
